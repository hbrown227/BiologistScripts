{
  "nbformat": 4,
  "nbformat_minor": 0,
  "metadata": {
    "colab": {
      "provenance": [],
      "toc_visible": true,
      "authorship_tag": "ABX9TyOzwl4c4l15ZqmyAwETmo1O",
      "include_colab_link": true
    },
    "kernelspec": {
      "name": "python3",
      "display_name": "Python 3"
    },
    "language_info": {
      "name": "python"
    }
  },
  "cells": [
    {
      "cell_type": "markdown",
      "metadata": {
        "id": "view-in-github",
        "colab_type": "text"
      },
      "source": [
        "<a href=\"https://colab.research.google.com/github/hbrown227/BiologistScripts/blob/master/Chlamydia_Clustering_v4.ipynb\" target=\"_parent\"><img src=\"https://colab.research.google.com/assets/colab-badge.svg\" alt=\"Open In Colab\"/></a>"
      ]
    },
    {
      "cell_type": "markdown",
      "source": [
        "Install dependences and call googlesheet"
      ],
      "metadata": {
        "id": "QJvmSalta7iP"
      }
    },
    {
      "cell_type": "code",
      "source": [
        "from gc import get_freeze_count\n",
        "import matplotlib\n",
        "import numpy as np\n",
        "import pandas as pd\n",
        "import matplotlib.pyplot as plt\n",
        "import yellowbrick.cluster\n",
        "import sklearn\n",
        "\n",
        "from sklearn.cluster import KMeans, SpectralClustering\n",
        "from sklearn.metrics import silhouette_samples, silhouette_score\n",
        "import statsmodels.api as sm\n",
        "from sklearn.preprocessing import MinMaxScaler\n",
        "from yellowbrick.cluster import KElbowVisualizer\n",
        "\n",
        "from matplotlib import font_manager\n",
        "from google.auth.credentials import Credentials\n",
        "%matplotlib inline\n",
        "plt.style.use('seaborn-whitegrid')\n",
        "font_manager.FontManager({'font.sans-serif':'Arial'})\n",
        "\n",
        "\n",
        "from google.colab import auth\n",
        "auth.authenticate_user()\n",
        "\n",
        "import gspread\n",
        "from google.auth import default\n",
        "creds, _ = default()\n",
        "\n",
        "gc = gspread.authorize(creds)"
      ],
      "metadata": {
        "id": "SzLrDe1nfl4K"
      },
      "execution_count": null,
      "outputs": []
    },
    {
      "cell_type": "markdown",
      "source": [
        "Open worksheet and covert to dataframe then array"
      ],
      "metadata": {
        "id": "LCe6yQ4zfmSr"
      }
    },
    {
      "cell_type": "code",
      "execution_count": null,
      "metadata": {
        "id": "3IX9RErYa3Ug"
      },
      "outputs": [],
      "source": [
        "\n",
        "worksheet = gc.open('2230hpi').sheet1\n",
        "\n",
        "df= pd.DataFrame(worksheet.get_all_records())\n",
        "\n",
        "print(df.head)\n",
        "\n"
      ]
    },
    {
      "cell_type": "markdown",
      "source": [
        "DBscan"
      ],
      "metadata": {
        "id": "Tl_Hp-H5mVFf"
      }
    },
    {
      "cell_type": "code",
      "source": [
        "from sklearn.cluster import DBSCAN\n",
        "\n",
        "X = np.array([[1, 2], [2, 2], [2, 3],\n",
        "              [8, 7], [8, 8], [25, 80]])\n",
        "clustering = DBSCAN(eps=3, min_samples=2).fit(X)\n",
        "clustering.labels_\n",
        "\n",
        "clustering\n",
        "\n",
        "fit(X, y=None, sample_weight=None)"
      ],
      "metadata": {
        "id": "R0jnTXAumXDm"
      },
      "execution_count": null,
      "outputs": []
    },
    {
      "cell_type": "markdown",
      "source": [
        "Elbow Method for KMeans"
      ],
      "metadata": {
        "id": "WjBQDFqWg6Da"
      }
    },
    {
      "cell_type": "code",
      "source": [
        "\n",
        "\n",
        "# define min max scaler\n",
        "## need to normalize data in order to not have outsized effect by one of the parameters\n",
        "scaler = MinMaxScaler()\n",
        "\n",
        "print(scaler.fit(df[['euo','hctB']]))\n",
        "\n",
        "print(scaler.data_max_)\n",
        "\n",
        "print(scaler.transform(df[['euo','hctB']]))\n",
        "\n",
        "\n",
        "model= KMeans()\n",
        "visualizer = KElbowVisualizer (model, k=(1,10))\n",
        "visualizer.fit(df)\n",
        "visualizer.show()\n",
        "visualizer.elbow_value_\n"
      ],
      "metadata": {
        "id": "d_24-F0YhAte"
      },
      "execution_count": null,
      "outputs": []
    },
    {
      "cell_type": "markdown",
      "source": [
        "Bisect"
      ],
      "metadata": {
        "id": "fgE4EpMGDkor"
      }
    },
    {
      "cell_type": "code",
      "source": [
        "clustering = SpectralClustering(n_clusters=2,\n",
        "        assign_labels='discretize',\n",
        "        random_state=0).fit(df)\n",
        "clustering.labels_\n",
        "\n",
        "clustering\n",
        "\n"
      ],
      "metadata": {
        "id": "OCAkqx98qHXJ"
      },
      "execution_count": null,
      "outputs": []
    },
    {
      "cell_type": "code",
      "source": [
        "\n",
        "k_means_optimum = KMeans(n_clusters = 3, init = 'k-means++',  random_state=42)\n",
        "y = k_means_optimum.fit_predict(df[['euo','hctB','Volume']])\n",
        "print(y)\n",
        "pd.DataFrame(y).to_csv(\"classified.csv\")\n",
        "from google.colab import files\n",
        "files.download(\"classified.csv\")\n"
      ],
      "metadata": {
        "id": "xYefvr7KDtfQ"
      },
      "execution_count": null,
      "outputs": []
    },
    {
      "cell_type": "markdown",
      "source": [
        "Visualize"
      ],
      "metadata": {
        "id": "lrP-kqDyhAGU"
      }
    },
    {
      "cell_type": "code",
      "source": [
        "\n",
        "HctA = worksheet.col_values(2)\n",
        "HctA.pop(0)\n",
        "#[float(i) for i in HctB]\n",
        "HctA = np.array(HctA, dtype=np.float32)\n",
        "\n",
        "\n",
        "#gene2\n",
        "Euo = worksheet.col_values(1)\n",
        "Euo.pop(0)\n",
        "#[float(i) for i in Euo]\n",
        "Euo = np.array(Euo,dtype=np.float32)\n",
        "\n",
        "\n",
        "#volume\n",
        "size = worksheet.col_values(3)\n",
        "size.pop(0)\n",
        "\n",
        "#[float(i) for i in size]\n",
        "size = np.array(size, dtype=np.float32)\n",
        "size = 40 * size\n",
        "\n",
        "#make graph \n",
        "##x=Euo, y=HctB, s=size, c=y (kmeans cluster), cmap=what colors to use, alpha=transperancy\n",
        "plt.scatter(Euo, HctA, s=size, c=y, cmap='viridis', alpha=0.5,)\n",
        "plt.axis(xmin=0,xmax=2500,ymin=0, ymax=10000)\n",
        "plt.xlabel('Euo',fontweight =\"bold\")\n",
        "plt.ylabel('HctA',fontweight =\"bold\")\n",
        "plt.title('30hpi',fontweight =\"bold\")\n",
        "\n",
        "from google.colab import files\n",
        "plt.savefig('30hpi.pdf')\n",
        "plt.show()\n",
        "files.download('30hpi.pdf') \n"
      ],
      "metadata": {
        "id": "ad1gx642c2UX"
      },
      "execution_count": null,
      "outputs": []
    },
    {
      "cell_type": "code",
      "source": [
        "plt.scatter(Euo, HctB, s=size, c=y, cmap='viridis', alpha=0.5,)\n",
        "\n",
        "plt.xscale(\"log\")\n",
        "plt.yscale(\"log\")\n",
        "\n",
        "plt.xlabel('Euo',fontweight =\"bold\")\n",
        "plt.ylabel('HctB',fontweight =\"bold\")\n",
        "plt.title('30hpi',fontweight =\"bold\")\n",
        "\n",
        "plt.savefig('30hpi_log.pdf')\n",
        "plt.show()\n",
        "files.download('30hpi_log.pdf') \n"
      ],
      "metadata": {
        "id": "mTDGGmdDjyKN"
      },
      "execution_count": null,
      "outputs": []
    }
  ]
}